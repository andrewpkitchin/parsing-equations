{
  "nbformat": 4,
  "nbformat_minor": 0,
  "metadata": {
    "colab": {
      "name": "shutting_yard_infix_to_postfix.ipynb",
      "provenance": [],
      "collapsed_sections": [],
      "authorship_tag": "ABX9TyNzhPLa9dFraTYgLbrkTktr",
      "include_colab_link": true
    },
    "kernelspec": {
      "name": "python3",
      "display_name": "Python 3"
    }
  },
  "cells": [
    {
      "cell_type": "markdown",
      "metadata": {
        "id": "view-in-github",
        "colab_type": "text"
      },
      "source": [
        "<a href=\"https://colab.research.google.com/github/andrewpkitchin/parsing-equations/blob/main/shutting_yard_infix_to_postfix.ipynb\" target=\"_parent\"><img src=\"https://colab.research.google.com/assets/colab-badge.svg\" alt=\"Open In Colab\"/></a>"
      ]
    },
    {
      "cell_type": "code",
      "metadata": {
        "id": "OTfaNZTT6gpn"
      },
      "source": [
        " # Shunting Yard - Infix to Postfix \n",
        "\n",
        "# Assumptions 1) Functions are not covered. 2) Only single digit integers are covered. \n",
        "\n",
        "operators = \"+-−/÷*×^\"\n",
        "operator_precedence = {'+' : 2, '-' : 2, '−': 2, '*' : 3, '×': 3 , '/' : 3, '÷' : 3, '^': 4}\n",
        "operator_associativity = {'+' : 'l', '-' : 'l', '−': 'l', '*' : 'l', '×': 'l', '/' : 'l', '÷' : 'l', '^': 'r'}\n",
        "\n",
        "def shunting_yard(equation):\n",
        "  output_queue = []\n",
        "  operator_stack = []\n",
        "  marker = 0\n",
        "\n",
        "  while marker <= len(equation)-1:\n",
        "    token = equation[marker]\n",
        "\n",
        "# white space    \n",
        "    if token in \" \":\n",
        "      marker +=1\n",
        "\n",
        "# numbers\n",
        "\n",
        "    elif token in \"0123456789\":\n",
        "      output_queue.append(token)\n",
        "      marker += 1\n",
        "\n",
        "# arithmetic operators\n",
        "\n",
        "    elif token in operators:\n",
        "      while len(operator_stack) > 0 and operator_stack[-1] in operators and operator_precedence[operator_stack[-1]] >= operator_precedence[token]:\n",
        "        if operator_stack[-1] != \"(\": \n",
        "          if operator_precedence[operator_stack[-1]] > operator_precedence[token]:\n",
        "            output_queue.append(operator_stack.pop())\n",
        "          elif operator_precedence[operator_stack[-1]] == operator_precedence[token] and operator_associativity[token] == 'l':  \n",
        "            output_queue.append(operator_stack.pop())\n",
        "          else:\n",
        "            break\n",
        "  \n",
        "      operator_stack.append(token)\n",
        "      marker += 1\n",
        "\n",
        "# round brackets\n",
        "\n",
        "    elif token in \"(\":\n",
        "      operator_stack.append(token)\n",
        "      marker += 1\n",
        "\n",
        "    elif token in \")\":\n",
        "      while len(operator_stack) > 0 and operator_stack[-1] != \"(\":\n",
        "        output_queue.append(operator_stack.pop())\n",
        "      if operator_stack[-1] == \"(\":\n",
        "        operator_stack.pop()\n",
        "      marker += 1\n",
        "\n",
        "# upacking stack\n",
        "\n",
        "  while len(operator_stack) > 0 and operator_stack[-1] in operators:\n",
        "    output_queue.append(operator_stack.pop())\n",
        "    \n",
        "  return output_queue\n",
        "\n"
      ],
      "execution_count": 1,
      "outputs": []
    },
    {
      "cell_type": "code",
      "metadata": {
        "id": "ECTfO6ng6BQE"
      },
      "source": [
        "# Example \n",
        "\n",
        "input_example =  '3+4*2/(1-5)^2^3'\n",
        "\n",
        "# input_example = '3 + 4 × 2 ÷ ( 1 − 5 ) ^ 2 ^ 3' "
      ],
      "execution_count": 6,
      "outputs": []
    },
    {
      "cell_type": "code",
      "metadata": {
        "id": "e0adlDCpSaGc",
        "colab": {
          "base_uri": "https://localhost:8080/"
        },
        "outputId": "7a425ba1-bcda-4aed-997b-c3d30ac4c836"
      },
      "source": [
        "print(shunting_yard(input_example))"
      ],
      "execution_count": 7,
      "outputs": [
        {
          "output_type": "stream",
          "text": [
            "['3', '4', '2', '*', '1', '5', '-', '2', '3', '^', '^', '/', '+']\n"
          ],
          "name": "stdout"
        }
      ]
    },
    {
      "cell_type": "code",
      "metadata": {
        "id": "ngc2Xgx7pxgG",
        "colab": {
          "base_uri": "https://localhost:8080/"
        },
        "outputId": "9a403f32-3ecb-47a2-b61a-1a3337156764"
      },
      "source": [
        "postfix_output = \"\"\n",
        "\n",
        "for i in shunting_yard(input_example):\n",
        "  \n",
        "  postfix_output = postfix_output + i\n",
        "\n",
        "print(postfix_output) \n"
      ],
      "execution_count": 11,
      "outputs": [
        {
          "output_type": "stream",
          "text": [
            "342*15-23^^/+\n"
          ],
          "name": "stdout"
        }
      ]
    }
  ]
}