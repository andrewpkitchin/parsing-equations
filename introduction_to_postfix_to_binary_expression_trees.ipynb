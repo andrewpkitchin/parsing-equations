{
  "nbformat": 4,
  "nbformat_minor": 0,
  "metadata": {
    "colab": {
      "name": "introduction_to_postfix_to_binary_expression_trees.ipynb",
      "provenance": [],
      "collapsed_sections": [],
      "authorship_tag": "ABX9TyM6TyniQrCIeHYDpy7KIWv2",
      "include_colab_link": true
    },
    "kernelspec": {
      "name": "python3",
      "display_name": "Python 3"
    }
  },
  "cells": [
    {
      "cell_type": "markdown",
      "metadata": {
        "id": "view-in-github",
        "colab_type": "text"
      },
      "source": [
        "<a href=\"https://colab.research.google.com/github/andrewpkitchin/parsing-equations/blob/main/introduction_to_postfix_to_binary_expression_trees.ipynb\" target=\"_parent\"><img src=\"https://colab.research.google.com/assets/colab-badge.svg\" alt=\"Open In Colab\"/></a>"
      ]
    },
    {
      "cell_type": "markdown",
      "metadata": {
        "id": "XeKmQ4Yb5WeS"
      },
      "source": [
        "Ref: http://www.cs.man.ac.uk/~pjj/cs212/fix.html\n",
        "\n",
        "**Postfix notation** (also known as **\"Reverse Polish notation\"**): X Y +\n",
        "\n",
        "Operators are written after their operands. The infix expression A * ( B + C ) / D is equivalent to A B C + * D /\n",
        "\n",
        "The order of evaluation of operators is always left-to-right, and brackets cannot be used to change this order. Because the \"+\" is to the left of the \"*\" in the example above, the addition must be performed before the multiplication.\n",
        "Operators act on values immediately to the left of them. For example, the \"+\" above uses the \"B\" and \"C\". We can add (totally unnecessary) brackets to make this explicit:\n",
        "( (A (B C +) *) D /)\n",
        "\n",
        "Thus, the \"*\" uses the two values immediately preceding: \"A\", and the result of the addition. Similarly, the \"/\" uses the result of the multiplication and the \"D\"."
      ]
    },
    {
      "cell_type": "code",
      "metadata": {
        "id": "l7LjsCZv_V0C"
      },
      "source": [
        "# Stack\n",
        "class Stack():\n",
        "    def __init__(self):\n",
        "        self.items = []\n",
        "\n",
        "    def push(self, item):\n",
        "        self.items.append(item)\t\t\t\t\n",
        "\n",
        "    def pop(self):\n",
        "        return self.items.pop()\n",
        "    \n",
        "    def is_empty(self):\n",
        "        return self.items == []\n",
        "    \n",
        "    def peek(self):\n",
        "        if not self.is_empty():\n",
        "            return self.items[-1]\n",
        "        \n",
        "    def get_stack(self):\n",
        "        return self.items\n",
        "\n",
        "    def height(self):\n",
        "        return len(self.items)"
      ],
      "execution_count": 7,
      "outputs": []
    },
    {
      "cell_type": "code",
      "metadata": {
        "id": "ia5amJGr_Y45"
      },
      "source": [
        "class Node(object):\n",
        "  def __init__(self, value):\n",
        "    self.value = value\n",
        "    self.left = None\n",
        "    self.right = None\n",
        "    self.depth = None\n",
        "    self.pointer = None "
      ],
      "execution_count": 8,
      "outputs": []
    },
    {
      "cell_type": "code",
      "metadata": {
        "id": "udx03H6ZEYHx"
      },
      "source": [
        "class BinaryTree():\n",
        "  def __init__(self, root):\n",
        "    self.root = Node(root)\n",
        "\n",
        "# Insertion methods\n",
        "\n",
        "  def insert_right(self, new_val, node):\n",
        "    if type(new_val) == Node:\n",
        "      node.right = new_val\n",
        "    else:\n",
        "      node.right = Node(new_val)\n",
        "  \n",
        "  def insert_left(self, new_val, node):\n",
        "    if type(new_val) == Node:\n",
        "      node.left = new_val\n",
        "    else:\n",
        "      node.left = Node(new_val)\n",
        "\n",
        "  def insert_tree_helper(self, start, node):\n",
        "    if start.left:\n",
        "      self.insert_left(start.left.value, node)\n",
        "      self.insert_tree_helper(start.left, node.left)\n",
        "\n",
        "    if start.right:\n",
        "      self.insert_right(start.right.value, node)\n",
        "      self.insert_tree_helper(start.right, node.right)\n",
        "  \n",
        "  def tree_insert_left(self, tree, node):\n",
        "    self.insert_left(tree.root.value, node)\n",
        "    self.insert_tree_helper(tree.root, node.left)\n",
        "  \n",
        "  def tree_insert_right(self, tree, node):\n",
        "    self.insert_right(tree.root.value, node)\n",
        "    self.insert_tree_helper(tree.root, node.right)    \n",
        "\n",
        "# Print methods\n",
        "\n",
        "  def print_tree(self, traversal_type):\n",
        "    if traversal_type == \"preorder\":\n",
        "        return self.preorder_print(self.root, \"\")\n",
        "    elif traversal_type == \"inorder\":\n",
        "        return self.inorder_print(self.root, \"\")\n",
        "    elif traversal_type == \"postorder\":\n",
        "        return self.postorder_print(self.root, \"\")\n",
        "\n",
        "    else:\n",
        "        print(\"Traversal type \" + str(traversal_type) + \" is not supported.\")\n",
        "        return False\n",
        "\n",
        "  def inorder_print(self, start, traversal):\n",
        "        \"\"\"Left->Root->Right\"\"\"\n",
        "        if start:\n",
        "            traversal = self.inorder_print(start.left, traversal)\n",
        "            traversal += str(start.value)\n",
        "            traversal = self.inorder_print(start.right, traversal)\n",
        "        return traversal\n",
        "\n",
        "  def preorder_print(self, start, traversal):\n",
        "        \"\"\"Root->Left->Right\"\"\"\n",
        "        if start:\n",
        "            traversal += (str(start.value))\n",
        "            print(\"1\", traversal)\n",
        "            traversal = self.preorder_print(start.left, traversal)\n",
        "            print(\"2\", traversal)\n",
        "            traversal = self.preorder_print(start.right, traversal)\n",
        "            print(\"3\", traversal)\n",
        "        return traversal"
      ],
      "execution_count": 47,
      "outputs": []
    },
    {
      "cell_type": "code",
      "metadata": {
        "id": "ND2fQ2cddPda"
      },
      "source": [
        "class ParserSettings():\n",
        "  def __init__(self):\n",
        "    self.operators = \"+-−/÷*×^\"\n",
        "    self.precedence = {'+' : 2, '-' : 2, '−': 2, '*' : 3, '×': 3 , '/' : 3, '÷' : 3, '^': 4}\n",
        "    self.associativity = {'+' : 'l', '-' : 'l', '−': 'l', '*' : 'l', '×': 'l', '/' : 'l', '÷' : 'l', '^': 'r'}"
      ],
      "execution_count": 48,
      "outputs": []
    },
    {
      "cell_type": "code",
      "metadata": {
        "id": "tZDCfWboXcGC"
      },
      "source": [
        "# Postfix to expression tree.\n",
        "\n",
        "# Parser\n",
        "class postfixParser():\n",
        "  def __init__(self, input_string):\n",
        "\n",
        "    self.settings = ParserSettings()  \n",
        "    self.input = input_string\n",
        "    self.marker = 0\n",
        "    self.output_stack = Stack()\n",
        "    self.operator_stack = Stack()\n",
        "\n",
        "    # This stack will record the marker positions of any whitespace in the input.     \n",
        "    self.whitespace_position_stack = Stack()\n",
        "\n",
        "# Since strings are indexed start at 0 the maker only need move to len(input_string)-1. \n",
        "    self.input_len = len(self.input)-1 \n",
        "\n",
        "# Input netural \n",
        "\n",
        "  def isWhitespace(self):\n",
        "    if self.marker <= len(self.input)-1 and self.input[self.marker] in \" \":\n",
        "      self.whitespace_position_stack.push(self.marker)\n",
        "      self.marker += 1\n",
        "  \n",
        "  def isDecimal(self):\n",
        "    holding_str = ''\n",
        "    while self.marker <= self.input_len and self.input[self.marker] in \"0123456789.\":\n",
        "          holding_str += self.input[self.marker]\n",
        "          self.marker += 1\n",
        "    if holding_str != '':\n",
        "          self.output_stack.push(Node(holding_str))\n",
        "\n",
        "# Requires postfix input \n",
        "\n",
        "  def isBinaryOperation(self):\n",
        "    if self.input[self.marker] in self.settings.operators:\n",
        "      op = BinaryTree(self.input[self.marker])\n",
        "      if type(self.output_stack.peek()) == BinaryTree:\n",
        "        op.tree_insert_right(self.output_stack.pop(), op.root)\n",
        "      else:\n",
        "        op.insert_right(self.output_stack.pop(), op.root)\n",
        "      \n",
        "      if type(self.output_stack.peek()) == BinaryTree:\n",
        "        op.tree_insert_left(self.output_stack.pop(), op.root)\n",
        "      else:\n",
        "        op.insert_left(self.output_stack.pop(), op.root)   \n",
        "      self.output_stack.push(op)\n",
        "\n",
        "      self.marker += 1\n",
        "  \n",
        "  def creatingExp(self):\n",
        "    while self.marker <= self.input_len:\n",
        "      self.isWhitespace()\n",
        "      self.isBinaryOperation()\n",
        "      self.isDecimal()\n",
        "    \n",
        "    return self.output_stack.get_stack()[0]\n",
        "    "
      ],
      "execution_count": 66,
      "outputs": []
    },
    {
      "cell_type": "code",
      "metadata": {
        "colab": {
          "base_uri": "https://localhost:8080/"
        },
        "id": "Y5XM9ocacQ-6",
        "outputId": "0b117d01-9917-45bc-ddf7-0b9ac237cc27"
      },
      "source": [
        "example = postfixParser('34 4.9 + 5 *')\n",
        "\n",
        "tree = example.creatingExp()\n",
        "\n",
        "print(tree.print_tree(\"inorder\"))"
      ],
      "execution_count": 67,
      "outputs": [
        {
          "output_type": "stream",
          "text": [
            "34+4.9*5\n"
          ],
          "name": "stdout"
        }
      ]
    },
    {
      "cell_type": "code",
      "metadata": {
        "id": "rg4WPwUf6mJd"
      },
      "source": [
        "# Working example of postfix to a binary expression tree.\n",
        "\n",
        "input_example = 'ab+cde+**' \n",
        "\n",
        "# '((ab+)(c(de+)*)*)' becomes '(a+b)*c*(d+e)'\n",
        "\n",
        "# In infix '((ab+)(c(de+)*)*)' becomes '(a+b)*c*(d+e)'\n",
        "\n",
        "# Let c be a character in our input expression I.\n",
        "# Operator Stack\n",
        "# Holding Stack\n",
        "\n",
        "# Rule 1 - If c is an operand, check holding stack for pointer T_i, create a one-node tree and push a pointer T_{i+1} to the holding stack.\n",
        "# Rule 2 - If c is an operator, pop pointers until T_1 is popped. Create a tree with root c and leaves T_1 to T_n. \n",
        "# Push a pointer for this tree to the holding stack.   \n",
        "\n",
        "holding_stack = Stack()\n",
        "operator_stack = Stack()\n",
        "\n",
        "\n",
        "input_example = 'ab+cde+**'\n",
        "\n",
        "# Step 1\n",
        "\n",
        "marker = 0\n",
        "c = input_example[0]\n",
        "\n",
        "# 'a' is an operand. \n",
        "\n",
        "T1 = Node('a')\n",
        "T1.pointer = 1\n",
        "\n",
        "holding_stack.push(T1)\n",
        "\n",
        "# Step 2\n",
        "\n",
        "marker = 1\n",
        "c = input_example[1]\n",
        "\n",
        "# 'b' is an operand. \n",
        "\n",
        "T2 = Node('b')\n",
        "T2.pointer = 2\n",
        "\n",
        "holding_stack.push(T2)\n",
        "\n",
        "# Step 3 \n",
        "\n",
        "marker = 2\n",
        "c = input_example[2]\n",
        "\n",
        "# '+' is an operator.\n",
        "\n",
        "O1 = BinaryTree('+')\n",
        "\n",
        "O1.insert_right(holding_stack.pop())\n",
        "\n",
        "O1.insert_left(holding_stack.pop())\n",
        "\n",
        "holding_stack.push(O1)\n",
        "\n",
        "# Step 3 \n",
        "\n",
        "marker = 3\n",
        "c = input_example[3]\n",
        "\n",
        "# 'c' is a operand."
      ],
      "execution_count": null,
      "outputs": []
    }
  ]
}