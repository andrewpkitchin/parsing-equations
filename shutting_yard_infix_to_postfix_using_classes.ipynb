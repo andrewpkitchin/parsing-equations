{
  "nbformat": 4,
  "nbformat_minor": 0,
  "metadata": {
    "colab": {
      "name": "shutting_yard_infix_to_postfix_using_classes.ipynb",
      "provenance": [],
      "authorship_tag": "ABX9TyPl/YKR/jW8hastl6CqTd00",
      "include_colab_link": true
    },
    "kernelspec": {
      "name": "python3",
      "display_name": "Python 3"
    }
  },
  "cells": [
    {
      "cell_type": "markdown",
      "metadata": {
        "id": "view-in-github",
        "colab_type": "text"
      },
      "source": [
        "<a href=\"https://colab.research.google.com/github/andrewpkitchin/parsing-equations/blob/main/shutting_yard_infix_to_postfix_using_classes.ipynb\" target=\"_parent\"><img src=\"https://colab.research.google.com/assets/colab-badge.svg\" alt=\"Open In Colab\"/></a>"
      ]
    },
    {
      "cell_type": "code",
      "metadata": {
        "id": "IdpLXABGM8pe"
      },
      "source": [
        "# Stack\n",
        "class Stack():\n",
        "    def __init__(self):\n",
        "        self.items = []\n",
        "\n",
        "    def push(self, item):\n",
        "        self.items.append(item)\t\t\t\t\n",
        "\n",
        "    def pop(self):\n",
        "        return self.items.pop()\n",
        "    \n",
        "    def is_empty(self):\n",
        "        return self.items == []\n",
        "    \n",
        "    def peek(self):\n",
        "        if not self.is_empty():\n",
        "            return self.items[-1]\n",
        "        \n",
        "    def get_stack(self):\n",
        "        return self.items\n",
        "\n",
        "    def height(self):\n",
        "        return len(self.items)"
      ],
      "execution_count": null,
      "outputs": []
    },
    {
      "cell_type": "code",
      "metadata": {
        "id": "KKYN3QShNDQn"
      },
      "source": [
        "class ParserSettings():\n",
        "  def __init__(self):\n",
        "    self.operators = \"+-−/÷*×^\"\n",
        "    self.precedence = {'+' : 2, '-' : 2, '−': 2, '*' : 3, '×': 3 , '/' : 3, '÷' : 3, '^': 4}\n",
        "    self.associativity = {'+' : 'l', '-' : 'l', '−': 'l', '*' : 'l', '×': 'l', '/' : 'l', '÷' : 'l', '^': 'r'}"
      ],
      "execution_count": null,
      "outputs": []
    },
    {
      "cell_type": "code",
      "metadata": {
        "id": "hG7mtG00qyEg"
      },
      "source": [
        "# Class version of the shunting yard algorithm.\n",
        "# Parser\n",
        "class Parser():\n",
        "  def __init__(self, input_string):\n",
        "\n",
        "    self.settings = ParserSettings()  \n",
        "    self.input = input_string\n",
        "    self.marker = 0\n",
        "    self.output_stack = Stack()\n",
        "    self.operator_stack = Stack()\n",
        "\n",
        "# This stack will record the marker positions of any whitespace in the input.     \n",
        "    self.whitespace_position_stack = Stack()\n",
        "\n",
        "# Since strings are indexed start at 0 the maker only need move to len(input_string)-1. \n",
        "    self.input_len = len(self.input)-1 \n",
        "\n",
        "  def isWhitespace(self):\n",
        "    if self.marker <= len(self.input)-1 and self.input[self.marker] in \" \":\n",
        "      self.whitespace_position_stack.push(self.marker)\n",
        "      self.marker += 1\n",
        "  \n",
        "  def isDecimal(self):\n",
        "    holding_str = ''\n",
        "    while self.marker <= self.input_len and self.input[self.marker] in \"0123456789.\":\n",
        "          holding_str += self.input[self.marker]\n",
        "          self.marker += 1\n",
        "    if holding_str != '':\n",
        "          self.output_stack.push(holding_str)\n",
        "  \n",
        "  def isArithmeticOperation(self):\n",
        "    if self.input[self.marker] in self.settings.operators:\n",
        "      while self.output_stack.height() > 0 and self.output_stack.peek() in operators and self.settings.precedence[self.output_stack.peek()] >= self.settings.precedence[self.input[marker]]:\n",
        "        if self.operator_stack.peek() != '(':\n",
        "          if self.settings.precedence[self.output_stack.peek()] > self.settings.precedence[self.input[marker]]:\n",
        "            self.output_stack.push(self.operator_stack.pop())  \n",
        "          elif self.settings.precedence[self.operator_stack.peek()] == self.settings.precedence[self.input[marker]] and self.settings.associativity[self.input[marker]] == 'l':\n",
        "            self.output_stack.push(self.operator_stack.pop())\n",
        "          else:\n",
        "            break\n",
        "\n",
        "      self.operator_stack.push(self.input[self.marker])\n",
        "      self.marker += 1\n",
        "    \n",
        "  def shuntingYard(self):\n",
        "    while self.marker <= self.input_len:\n",
        "      self.isWhitespace()\n",
        "      self.isArithmeticOperation()\n",
        "      self.isDecimal()\n",
        "\n",
        "    while self.operator_stack.height() > 0 and self.operator_stack.peek() in operators:\n",
        "      self.output_stack.push(self.operator_stack.pop())\n",
        "\n",
        "    return self.output_stack.get_stack(), self.whitespace_position_stack.get_stack()\n",
        "    "
      ],
      "execution_count": null,
      "outputs": []
    },
    {
      "cell_type": "code",
      "metadata": {
        "colab": {
          "base_uri": "https://localhost:8080/"
        },
        "id": "bmvt0CeDNZ_Y",
        "outputId": "f5839b59-4adf-42ef-afe3-4ca9fd8a9acd"
      },
      "source": [
        "input_example = '34*2+78*9+0'\n",
        "\n",
        "example = Parser(input_example)\n",
        "\n",
        "print(example.shuntingYard())"
      ],
      "execution_count": null,
      "outputs": [
        {
          "output_type": "stream",
          "text": [
            "(['34', '2', '78', '9', '0', '+', '*', '+', '*'], [])\n"
          ],
          "name": "stdout"
        }
      ]
    },
    {
      "cell_type": "code",
      "metadata": {
        "id": "bvZZo4IGygrM"
      },
      "source": [
        " \n",
        "  def brackets(self):\n",
        "    if self.marker <= len(self.input)-1 and self.input[self.marker] in \"({[\":\n",
        "      self.objects.append(self.input[self.marker])\n",
        "      self.marker += 1 \n",
        "      while self.input[self.marker] not in \")}]\":\n",
        "        self.space()\n",
        "        self.decimal()\n",
        "        self.arithmetic_operations()\n",
        "      \n",
        "      self.objects.append(self.input[self.marker])\n",
        "      self.marker += 1 \n",
        "\n",
        "  def func(self):\n",
        "    while self.marker <= len(self.input)-1:\n",
        "      self.space()\n",
        "      self.arithmetic_operations()     \n",
        "      self.decimal()\n",
        "      self.brackets()"
      ],
      "execution_count": null,
      "outputs": []
    }
  ]
}