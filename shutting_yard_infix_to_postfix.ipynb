{
  "nbformat": 4,
  "nbformat_minor": 0,
  "metadata": {
    "colab": {
      "name": "shutting_yard.ipynb",
      "provenance": [],
      "collapsed_sections": [],
      "authorship_tag": "ABX9TyM/mwckQZ58qu8OOMbi/Fn8",
      "include_colab_link": true
    },
    "kernelspec": {
      "name": "python3",
      "display_name": "Python 3"
    }
  },
  "cells": [
    {
      "cell_type": "markdown",
      "metadata": {
        "id": "view-in-github",
        "colab_type": "text"
      },
      "source": [
        "<a href=\"https://colab.research.google.com/github/andrewpkitchin/parsing-equations/blob/main/shutting_yard.ipynb\" target=\"_parent\"><img src=\"https://colab.research.google.com/assets/colab-badge.svg\" alt=\"Open In Colab\"/></a>"
      ]
    },
    {
      "cell_type": "code",
      "metadata": {
        "id": "ECTfO6ng6BQE"
      },
      "source": [
        "# Detailed Example \n",
        "\n",
        "input_example =  '3+4*2/(1-5)^2^3'\n",
        "#input_example = '3 + 4 × 2 ÷ ( 1 − 5 ) ^2 ^ 3' \n",
        "\n", 
        "#'3 + 4 * 2 ÷ ( 1 − 5 ) ^ 2 ^ 3'\n",
        "\n"
      ],
      "execution_count": 96,
      "outputs": []
    },
    {
      "cell_type": "code",
      "metadata": {
        "id": "OTfaNZTT6gpn"
      },
      "source": [
        " # Shunting Yard \n",
        "\n",
        "# Assumptions 1) Functions are not covered. 2) Only single digit integers are covered. \n",
        "\n",
        "operators = \"+-−/÷*×^\"\n",
        "operator_precedence = {'+' : 2, '-' : 2, '−': 2, '*' : 3, '×': 3 , '/' : 3, '÷' : 3, '^': 4}\n",
        "operator_associativity = {'+' : 'l', '-' : 'l', '−': 'l', '*' : 'l', '×': 'l', '/' : 'l', '÷' : 'l', '^': 'r'}\n",
        "\n",
        "def shunting_yard(equation):\n",
        "  output_queue = []\n",
        "  operator_stack = []\n",
        "  marker = 0\n",
        "\n",
        "  while marker <= len(equation)-1:\n",
        "    token = equation[marker]\n",
        "    print('output', output_queue)\n",
        "    print('op stack', operator_stack)\n",
        "\n",
        "# white space    \n",
        "    if token in \" \":\n",
        "      marker +=1\n",
        "\n",
        "# numbers\n",
        "\n",
        "    elif token in \"0123456789\":\n",
        "      output_queue.append(token)\n",
        "      marker += 1\n",
        "\n",
        "# arithmetic operators\n",
        "\n",
        "    elif token in operators:\n",
        "      while len(operator_stack) > 0 and operator_stack[-1] in operators and operator_precedence[operator_stack[-1]] >= operator_precedence[token]:\n",
        "        if operator_stack[-1] != \"(\": \n",
        "          if operator_precedence[operator_stack[-1]] > operator_precedence[token]:\n",
        "            output_queue.append(operator_stack.pop())\n",
        "          elif operator_precedence[operator_stack[-1]] == operator_precedence[token] and operator_associativity[token] == 'l':  \n",
        "            output_queue.append(operator_stack.pop())\n",
        "          else:\n",
        "            break\n",
        "  \n",
        "      operator_stack.append(token)\n",
        "      marker += 1\n",
        "\n",
        "# round brackets\n",
        "\n",
        "    elif token in \"(\":\n",
        "      operator_stack.append(token)\n",
        "      marker += 1\n",
        "\n",
        "    elif token in \")\":\n",
        "      while len(operator_stack) > 0 and operator_stack[-1] != \"(\":\n",
        "        output_queue.append(operator_stack.pop())\n",
        "      if operator_stack[-1] == \"(\":\n",
        "        operator_stack.pop()\n",
        "      marker += 1\n",
        "\n",
        "# upacking stack\n",
        "\n",
        "  while len(operator_stack) > 0 and operator_stack[-1] in operators:\n",
        "    output_queue.append(operator_stack.pop())\n",
        "    \n",
        "  return output_queue\n",
        "\n"
      ],
      "execution_count": 103,
      "outputs": []
    },
    {
      "cell_type": "code",
      "metadata": {
        "id": "e0adlDCpSaGc",
        "colab": {
          "base_uri": "https://localhost:8080/"
        },
        "outputId": "20b1a277-36de-4ea7-b279-f6b48d22fcc7"
      },
      "source": [
        "print(shunting_yard(input_example))"
      ],
      "execution_count": 104,
      "outputs": [
        {
          "output_type": "stream",
          "text": [
            "output []\n",
            "op stack []\n",
            "output ['3']\n",
            "op stack []\n",
            "output ['3']\n",
            "op stack ['+']\n",
            "output ['3', '4']\n",
            "op stack ['+']\n",
            "output ['3', '4']\n",
            "op stack ['+', '*']\n",
            "output ['3', '4', '2']\n",
            "op stack ['+', '*']\n",
            "output ['3', '4', '2', '*']\n",
            "op stack ['+', '/']\n",
            "output ['3', '4', '2', '*']\n",
            "op stack ['+', '/', '(']\n",
            "output ['3', '4', '2', '*', '1']\n",
            "op stack ['+', '/', '(']\n",
            "output ['3', '4', '2', '*', '1']\n",
            "op stack ['+', '/', '(', '-']\n",
            "output ['3', '4', '2', '*', '1', '5']\n",
            "op stack ['+', '/', '(', '-']\n",
            "output ['3', '4', '2', '*', '1', '5', '-']\n",
            "op stack ['+', '/']\n",
            "output ['3', '4', '2', '*', '1', '5', '-']\n",
            "op stack ['+', '/', '^']\n",
            "output ['3', '4', '2', '*', '1', '5', '-', '2']\n",
            "op stack ['+', '/', '^']\n",
            "output ['3', '4', '2', '*', '1', '5', '-', '2']\n",
            "op stack ['+', '/', '^', '^']\n",
            "['3', '4', '2', '*', '1', '5', '-', '2', '3', '^', '^', '/', '+']\n"
          ],
          "name": "stdout"
        }
      ]
    }
  ]
}
